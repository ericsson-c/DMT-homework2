{
 "cells": [
  {
   "cell_type": "markdown",
   "id": "6857504c-31f0-41dc-9247-2c0316a8fc50",
   "metadata": {},
   "source": [
    "# Homework 02"
   ]
  },
  {
   "cell_type": "markdown",
   "id": "0f084174-3393-4632-a573-79cd252c2dae",
   "metadata": {},
   "source": [
    "# Table of Contents\n",
    "\n",
    "Both lambdas are used in the context of Table.map().\n",
    "\n",
    "* [Transforms each \"occupation title\" into uppercase for part 3, question 15.] \n",
    "\n",
    "* [Converts the values in the \"annual mean wage\" column into floating point numbers for part 3, question 16.]\n",
    "\n",
    "Use Table of Contents to navigate to each lambda."
   ]
  },
  {
   "cell_type": "code",
   "execution_count": 22,
   "id": "ef325df0-23aa-4a67-9056-b1271767446b",
   "metadata": {},
   "outputs": [],
   "source": [
    "# step 1: read in file as using csv library\n",
    "import csv\n",
    "\n",
    "with open ('occupations-truncated.csv', newline='') as f:\n",
    "    reader = csv.DictReader(f)\n",
    "    data = [row for row in reader]"
   ]
  },
  {
   "cell_type": "code",
   "execution_count": 23,
   "id": "029d1046-367f-4b79-bb61-22c1b68a9be5",
   "metadata": {},
   "outputs": [
    {
     "name": "stdout",
     "output_type": "stream",
     "text": [
      "[['Computer and Information Systems Managers', 161730], ['Data Entry Keyers', 35850]]\n"
     ]
    }
   ],
   "source": [
    "# find occupation title and annual mean wage for highest and lowest annual mean wage for...\n",
    "# - rows with detail value in level col:\n",
    "\n",
    "detail_as_val = [row for row in data if row['Level'] == 'detail']\n",
    "\n",
    "# - rows where occupation title includes 'computer' or 'data':\n",
    "\n",
    "tech_jobs = [row for row in detail_as_val if\n",
    "             'comp' in row['Occupation title'].lower() or\n",
    "             'data' in row['Occupation title'].lower()]\n",
    "\n",
    "\n",
    "# parse salaries (currently dollar vals represented as strings) into ints:\n",
    "\n",
    "amw = [[row[\"Occupation title\"], int(row['Annual mean wage'].replace(\"$\",\"\").replace(\",\",\"\"))] for row in tech_jobs]\n",
    "salaries = [row[1] for row in amw]\n",
    "\n",
    "max_min_sal = max(salaries), min(salaries)\n",
    "max_min = [row for row in amw if row[1] in max_min_sal]\n",
    "\n",
    "print(max_min)"
   ]
  },
  {
   "cell_type": "code",
   "execution_count": 24,
   "id": "4d222053",
   "metadata": {},
   "outputs": [],
   "source": [
    "# part 3: nelta.py and occupation with annual wage > $200,000\n",
    "import nelta as nt\n",
    "\n",
    "file = nt.read_csv('occupations-truncated.csv')"
   ]
  },
  {
   "cell_type": "code",
   "execution_count": 25,
   "id": "68e536dc-85a3-4937-9f17-02d9d2c8aa45",
   "metadata": {},
   "outputs": [
    {
     "data": {
      "text/plain": [
       "(1034, 5)"
      ]
     },
     "execution_count": 25,
     "metadata": {},
     "output_type": "execute_result"
    }
   ],
   "source": [
    "file.shape()"
   ]
  },
  {
   "cell_type": "code",
   "execution_count": 26,
   "id": "73705725-d581-432b-96a1-7ce09f34816c",
   "metadata": {},
   "outputs": [
    {
     "data": {
      "text/plain": [
       "['Occupation code',\n",
       " 'Occupation title',\n",
       " 'Level',\n",
       " 'Employment',\n",
       " 'Annual mean wage']"
      ]
     },
     "execution_count": 26,
     "metadata": {},
     "output_type": "execute_result"
    }
   ],
   "source": [
    "file.columns"
   ]
  },
  {
   "cell_type": "code",
   "execution_count": 27,
   "id": "31635bf3-73dc-4702-a17e-5e8c9b0e469a",
   "metadata": {},
   "outputs": [
    {
     "data": {
      "text/plain": [
       "        Occupation code    Occupation title               Level          Employment    Annual mean wage\n",
       "0               00-0000     All Occupations               total         139099570.0             $56,310\n",
       "1               11-0000 Management Occupa..               major           7947300.0            $126,480\n",
       "2               11-1000      Top Executives               minor           2601070.0            $129,920\n",
       "3               11-1011    Chief Executives              detail            202360.0            $197,840"
      ]
     },
     "execution_count": 27,
     "metadata": {},
     "output_type": "execute_result"
    }
   ],
   "source": [
    "file.head(4)"
   ]
  },
  {
   "cell_type": "code",
   "execution_count": 28,
   "id": "9f1630ba-fedc-495c-a306-f4bf8448e98e",
   "metadata": {},
   "outputs": [],
   "source": [
    "last_four = file.tail(4)"
   ]
  },
  {
   "cell_type": "code",
   "execution_count": 29,
   "id": "68321d24-e8d4-4ab0-95af-1902da044f9c",
   "metadata": {},
   "outputs": [
    {
     "data": {
      "text/plain": [
       "1030  12050.0\n",
       "1031  120850.0\n",
       "1032  12610.0\n",
       "1033  26300.0"
      ]
     },
     "execution_count": 29,
     "metadata": {},
     "output_type": "execute_result"
    }
   ],
   "source": [
    "temp = last_four[\"Employment\"]\n",
    "temp"
   ]
  },
  {
   "cell_type": "code",
   "execution_count": 30,
   "id": "1774c9d9-a9c0-405a-9821-8e5b3eb269b2",
   "metadata": {},
   "outputs": [
    {
     "name": "stdout",
     "output_type": "stream",
     "text": [
      "12050.0\n",
      "120850.0\n",
      "12610.0\n",
      "26300.0\n"
     ]
    }
   ],
   "source": [
    "for val in temp.values:\n",
    "    print(val)"
   ]
  },
  {
   "cell_type": "code",
   "execution_count": 31,
   "id": "a56f6056-3b99-4107-8b09-656ba103d669",
   "metadata": {},
   "outputs": [
    {
     "data": {
      "text/plain": [
       "       Occupation title          Employment\n",
       "1030    Wellhead Pumpers             12050.0\n",
       "1031 Refuse and Recycl..            120850.0\n",
       "1032 Tank Car, Truck, ..             12610.0\n",
       "1033 Material Moving W..             26300.0"
      ]
     },
     "execution_count": 31,
     "metadata": {},
     "output_type": "execute_result"
    }
   ],
   "source": [
    "last_four[['Occupation title', 'Employment']]"
   ]
  },
  {
   "cell_type": "code",
   "execution_count": 32,
   "id": "7a8df26d-00a7-4190-bcc5-c447d59000fc",
   "metadata": {},
   "outputs": [
    {
     "data": {
      "text/plain": [
       "772"
      ]
     },
     "execution_count": 32,
     "metadata": {},
     "output_type": "execute_result"
    }
   ],
   "source": [
    "details = file['Level'] == 'detail'\n",
    "details = file[details]\n",
    "len(details.values)"
   ]
  },
  {
   "cell_type": "code",
   "execution_count": 33,
   "id": "548c3bfd-a41b-4fd2-81aa-a96d62d820ba",
   "metadata": {},
   "outputs": [],
   "source": [
    "my_filter = details['Employment'] < 500"
   ]
  },
  {
   "cell_type": "code",
   "execution_count": 34,
   "id": "fbd0a08a-11e8-425d-aeca-53a87ce663f8",
   "metadata": {},
   "outputs": [
    {
     "data": {
      "text/plain": [
       "nelta.LabeledList"
      ]
     },
     "execution_count": 34,
     "metadata": {},
     "output_type": "execute_result"
    }
   ],
   "source": [
    "type(my_filter)"
   ]
  },
  {
   "cell_type": "code",
   "execution_count": 35,
   "id": "eb39c0b3-4751-4f3b-9084-d9e3026d151b",
   "metadata": {},
   "outputs": [
    {
     "name": "stdout",
     "output_type": "stream",
     "text": [
      "False\n"
     ]
    }
   ],
   "source": [
    "print(my_filter.values[3])"
   ]
  },
  {
   "cell_type": "code",
   "execution_count": 36,
   "id": "9e19a946-0b80-47ae-9507-07eac544c976",
   "metadata": {},
   "outputs": [
    {
     "data": {
      "text/plain": [
       "        Occupation code    Occupation title               Level          Employment    Annual mean wage\n",
       "508             35-2013 Cooks, Private Ho..              detail               320.0             $46,810\n",
       "916             51-7032 Patternmakers, Wood              detail               190.0             $60,750"
      ]
     },
     "execution_count": 36,
     "metadata": {},
     "output_type": "execute_result"
    }
   ],
   "source": [
    "details[my_filter].head(5)"
   ]
  },
  {
   "cell_type": "code",
   "execution_count": 37,
   "id": "33177018-b814-4313-ada0-3e8de83f158a",
   "metadata": {},
   "outputs": [],
   "source": [
    "rare_occ = details[my_filter]"
   ]
  },
  {
   "cell_type": "markdown",
   "id": "f72905ac-9cd6-47c1-9645-0881d77c002a",
   "metadata": {},
   "source": [
    "## first lambda"
   ]
  },
  {
   "cell_type": "code",
   "execution_count": 38,
   "id": "948fa163-8cdd-42b5-a6c7-33d4d9d352fa",
   "metadata": {},
   "outputs": [
    {
     "data": {
      "text/plain": [
       "508   COOKS, PRIVATE HOUSEHOLD\n",
       "916   PATTERNMAKERS, WOOD"
      ]
     },
     "execution_count": 38,
     "metadata": {},
     "output_type": "execute_result"
    }
   ],
   "source": [
    "rare_occ['Occupation title'].map(lambda x: x.upper())"
   ]
  },
  {
   "cell_type": "markdown",
   "id": "18fcfb0d-960f-483d-8c6e-dcf4b626f679",
   "metadata": {},
   "source": [
    "## second lambda"
   ]
  },
  {
   "cell_type": "code",
   "execution_count": 39,
   "id": "d6aed243-fce9-4860-866b-e6fec653761e",
   "metadata": {},
   "outputs": [
    {
     "data": {
      "text/plain": [
       "        Occupation code    Occupation title               Level          Employment    Annual mean wage\n",
       "383             29-1022 Oral and Maxillof..              detail              4120.0            $234,990\n",
       "384             29-1023       Orthodontists              detail              5040.0            $237,990\n",
       "385             29-1024     Prosthodontists              detail               530.0            $214,870\n",
       "407             29-1211   Anesthesiologists              detail             28590.0            $271,440\n",
       "408             29-1215 Family Medicine P..              detail             98590.0            $214,370\n",
       "409             29-1216 General Internal ..              detail             50600.0            $210,960\n",
       "410             29-1218 Obstetricians and..              detail             18900.0            $239,120\n",
       "412             29-1223       Psychiatrists              detail             25540.0            $217,100\n",
       "413             29-1228 Physicians, All O..              detail            375390.0            $218,850\n",
       "414             29-1248 Surgeons, Except ..              detail             37900.0            $251,650"
      ]
     },
     "execution_count": 39,
     "metadata": {},
     "output_type": "execute_result"
    }
   ],
   "source": [
    "amw = file[\"Annual mean wage\"].map(\n",
    "    lambda str: float(str.replace(\"$\",\"\").replace(\",\",\"\")))\n",
    "amw = amw > 200000\n",
    "get_these_jobs = file[amw]\n",
    "\n",
    "get_these_jobs"
   ]
  }
 ],
 "metadata": {
  "kernelspec": {
   "display_name": "Python 3 (ipykernel)",
   "language": "python",
   "name": "python3"
  },
  "language_info": {
   "codemirror_mode": {
    "name": "ipython",
    "version": 3
   },
   "file_extension": ".py",
   "mimetype": "text/x-python",
   "name": "python",
   "nbconvert_exporter": "python",
   "pygments_lexer": "ipython3",
   "version": "3.9.7"
  }
 },
 "nbformat": 4,
 "nbformat_minor": 5
}
